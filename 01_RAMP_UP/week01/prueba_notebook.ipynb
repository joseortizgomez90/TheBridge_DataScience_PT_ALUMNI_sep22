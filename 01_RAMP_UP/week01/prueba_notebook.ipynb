{
 "cells": [
  {
   "cell_type": "code",
   "execution_count": 1,
   "metadata": {},
   "outputs": [
    {
     "name": "stdout",
     "output_type": "stream",
     "text": [
      "Hello TheBridge!\n"
     ]
    }
   ],
   "source": [
    "print(\"Hello TheBridge!\")"
   ]
  },
  {
   "cell_type": "markdown",
   "metadata": {},
   "source": [
    "# Heading 1\n",
    "Aquí una pequeña descripción\n",
    "\n",
    "## Header 2\n",
    "\n",
    "Algo más de texto en **negrita** o *cursiva* o ***negrita_cursiva***\n",
    "\n",
    "- item 1\n",
    "- item 2\n",
    "- item 3\n",
    "\n",
    "* item 1\n",
    "* item 2\n",
    "\n",
    "### Header 3"
   ]
  }
 ],
 "metadata": {
  "kernelspec": {
   "display_name": "Python 3.7.4 64-bit",
   "language": "python",
   "name": "python3"
  },
  "language_info": {
   "codemirror_mode": {
    "name": "ipython",
    "version": 3
   },
   "file_extension": ".py",
   "mimetype": "text/x-python",
   "name": "python",
   "nbconvert_exporter": "python",
   "pygments_lexer": "ipython3",
   "version": "3.7.4"
  },
  "orig_nbformat": 4,
  "vscode": {
   "interpreter": {
    "hash": "7617e3fe2db772bda4decaba26b8f7fa0a6005d206b9c71d11bc465d3df41af6"
   }
  }
 },
 "nbformat": 4,
 "nbformat_minor": 2
}
