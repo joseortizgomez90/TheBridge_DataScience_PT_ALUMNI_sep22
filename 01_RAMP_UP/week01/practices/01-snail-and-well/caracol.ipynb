{
 "cells": [
  {
   "cell_type": "markdown",
   "metadata": {},
   "source": [
    "# 01 - Caracol y el pozo\n",
    "\n",
    "Un caracol cae en el fondo de un pozo de 125 cm. Cada día el caracol sube 30 cm. pero por la noche, mientras duerme, resbala 20 cm debido a que las paredes son húmedas. ¿Cuantos días tarda en escapar del pozo?\n",
    "\n",
    "TIP: https://www.vix.com/es/btg/curiosidades/59215/acertijos-matematicos-el-caracol-en-el-pozo-facil\n",
    "\n",
    "TIP: http://puzzles.nigelcoldwell.co.uk/sixtytwo.htm"
   ]
  },
  {
   "cell_type": "markdown",
   "metadata": {},
   "source": [
    "## Solución"
   ]
  },
  {
   "cell_type": "code",
   "execution_count": null,
   "metadata": {},
   "outputs": [],
   "source": [
    "# Asigna los datos del problema a variables con nombres representativos\n",
    "# altura del pozo, avance diario, retroceso nocturno, distancia acumulada\n",
    "\n",
    "\n",
    "# Asigna 0 a la variable que representa la solución\n",
    "\n",
    "\n",
    "# Escribe el código que soluciona el problema\n",
    "\n",
    "\n",
    "# Imprime el resultado con print('Dias =', dias)\n",
    "\n"
   ]
  },
  {
   "cell_type": "markdown",
   "metadata": {},
   "source": [
    "## Objetivos\n",
    "\n",
    "1. Tratamiento de variables\n",
    "2. Uso de bucle **while**\n",
    "3. Uso de condicionales **if-else**\n",
    "4. Imprimir por consola"
   ]
  },
  {
   "cell_type": "markdown",
   "metadata": {},
   "source": [
    "## Bonus\n",
    "La distancia recorrida por el caracol viene ahora definida por una lista. \n",
    "```\n",
    "avance_cm = [30, 21, 33, 77, 44, 45, 23, 45, 12, 34, 55]\n",
    "```\n",
    "¿Cuánto tarda en subir el pozo?\n",
    "¿Cuál es su máximo de desplazamiento en un día? ¿Y su mínimo?\n",
    "¿Cuál es su media de velocidad durante el día?\n",
    "¿Cuál es la desviación típica de su desplazamiento durante el día?"
   ]
  },
  {
   "cell_type": "code",
   "execution_count": null,
   "metadata": {},
   "outputs": [],
   "source": [
    "# Asigna los datos del problema a variables con nombres representativos\n",
    "# altura del pozo, avance diario, retroceso nocturno, distancia acumulada\n",
    "\n",
    "\n",
    "# Asigna 0 a la variable que representa la solución\n",
    "\n",
    "\n",
    "# Escribe el código que soluciona el problema\n",
    "\n",
    "\n",
    "# Imprime el resultado con print('Dias =', dias)\n",
    "\n",
    "\n",
    "# ¿Cuál es su máximo de desplazamiento en un día? ¿Y su mínimo?\n",
    "\n",
    "\n",
    "# ¿Cuál es su media de avance?\n",
    "\n",
    "\n",
    "# ¿Cuál es la desviación típica de su desplazamiento durante el día?\n",
    "\n"
   ]
  },
  {
   "cell_type": "code",
   "execution_count": 9,
   "metadata": {},
   "outputs": [
    {
     "name": "stdout",
     "output_type": "stream",
     "text": [
      "1\n",
      "30\n",
      "2\n",
      "60\n",
      "3\n",
      "90\n",
      "4\n",
      "120\n",
      "5\n",
      "150\n"
     ]
    }
   ],
   "source": [
    "\n",
    "##Bonus\n",
    "avance_cm=[30,21,33,77,44,45,23,45,12,55]\n",
    "\n",
    "min(avance_cm)\n",
    "\n",
    "max(avance_cm)\n",
    "\n",
    "sum(avance_cm)\n",
    "\n",
    "len(avance_cm)\n",
    "\n",
    "sum(avance_cm)/len(avance_cm)\n",
    "\n",
    "from math import sqrt\n",
    "from multiprocessing.resource_sharer import stop\n",
    "from unittest import result\n",
    " \n",
    "def media(avance_cm):\n",
    "  s = 0\n",
    "  for elemento in avance_cm:\n",
    "    s += elemento\n",
    "  return s / float(len(avance_cm))\n",
    "\n",
    "\n",
    "altura_max = 125\n",
    "avance_diario = 30 \n",
    "retroceso_noche = -20 \n",
    "distancia_acumulada = 0\n",
    "dias = 0 \n",
    "\n",
    "while distancia_acumulada < altura_max:\n",
    "  distancia_acumulada += avance_diario\n",
    "  dias +=1\n",
    "  print(dias)\n",
    "  print(distancia_acumulada)\n",
    "while distancia_acumulada < altura_max:\n",
    "   distancia_acumulada += retroceso_noche\n",
    "   dias +=1\n",
    "   print(dias) \n",
    "   print(distancia_acumulada)\n",
    "\n",
    "\n",
    "\n",
    "\n",
    "\n",
    "##No consigo meter la segunda variable de que cada vez que suba 30 y no haya salido del pozo reste 20\n",
    " ## pero seguiria así, siempre que sume 30 y no supere la altura del pozo que le reste 20, una vez que la altura inicial sea mayor que la del pozo que rompa el bucle"
   ]
  }
 ],
 "metadata": {
  "kernelspec": {
   "display_name": "Python 3.7.4 64-bit",
   "language": "python",
   "name": "python3"
  },
  "language_info": {
   "codemirror_mode": {
    "name": "ipython",
    "version": 3
   },
   "file_extension": ".py",
   "mimetype": "text/x-python",
   "name": "python",
   "nbconvert_exporter": "python",
   "pygments_lexer": "ipython3",
   "version": "3.7.4"
  },
  "vscode": {
   "interpreter": {
    "hash": "7617e3fe2db772bda4decaba26b8f7fa0a6005d206b9c71d11bc465d3df41af6"
   }
  }
 },
 "nbformat": 4,
 "nbformat_minor": 4
}
