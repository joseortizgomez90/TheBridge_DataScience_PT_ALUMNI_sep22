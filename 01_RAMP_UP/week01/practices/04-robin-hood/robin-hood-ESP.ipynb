{
 "cells": [
  {
   "cell_type": "markdown",
   "metadata": {},
   "source": [
    "# Robin Hood: \n",
    "Estamos en plena competición para ganar el concurso de tiro con arco en Sherwood. Con nuestro arco y flechas disparamos sobre una diana e intentamos acertar lo más cerca posible del centro. \n",
    "\n",
    "El centro de la diana viene representado por los valores (0, 0) en los ejes de coordenadas. \n",
    "\n",
    "## Objetivos: \n",
    "* estructuras de datos: listas, conjuntos, tuplas\n",
    "* operadores lógicos: if-elif-else\n",
    "* bucle: while/for\n",
    "* cálculo de mínimo (sorting opcional)\n",
    "\n",
    "## Descripción: \n",
    "En el espacio de 2 dimensiones un punto se puede definir por un par de valores que corresponden a la coordenada horizontal (x) y a la vertical (y). El espacio puede quedar dividido en 4 zonas (cuadrantes): Q1, Q2, Q3, Q4. Cuyo punto de unión único es el punto (0, 0). \n",
    "\n",
    "Si un punto se encuentra en Q1 tanto su coordenada x como la y son positivas. Te dejo un enlace a wikipedia para que te familiarices con estos cuadrantes. \n",
    "\n",
    "https://es.wikipedia.org/wiki/Coordenadas_cartesianas\n",
    "\n",
    "https://es.wikipedia.org/wiki/Distancia_euclidiana\n",
    "\n",
    "## Tareas\n",
    "1. Robin Hood es famoso por acertar a una flecha con otra flecha. ¿Lo ha conseguido? \n",
    "2. Calcula cuántos flechazos han caido en cada cuadrante. \n",
    "3. Halla el punto más cercano al centro. Calcula su distancia al centro\n",
    "4. Si la diana tiene un radio de 9, calcula el número de flechas que hay que recoger al bosque. "
   ]
  },
  {
   "cell_type": "code",
   "execution_count": 1,
   "metadata": {},
   "outputs": [],
   "source": [
    "puntos = [(4,5), (-0,2), (4,7), (1,-3), (3,-2), (4,5), \n",
    "          (3,2), (5,7), (-5,7), (2,2), (-4,5), (0,-2), \n",
    "          (-4,7), (-1,3), (-3,2), (-4,-5), (-3,2), \n",
    "          (5,7), (5,7), (2,2), (9, 9), (-8, -9)]\n",
    "\n",
    "# 1. Robin Hood es famoso por acertar a una flecha con otra flecha. ¿Lo ha conseguido? \n",
    "\n",
    "\n",
    "# 2. Calcula cuántos flechazos han caido en cada cuadrante. \n",
    "\n",
    "\n",
    "# 3. Halla el punto más cercano al centro. Calcula su distancia al centro\n",
    "# Definir una función que calcula la distancia al centro puede servir de ayuda. \n",
    "\n",
    "\n",
    "# 4. Si la diana tiene un radio de 9, calcula el número de flechas que hay que recoger al bosque. \n",
    "\n"
   ]
  },
  {
   "cell_type": "code",
   "execution_count": 4,
   "metadata": {},
   "outputs": [
    {
     "name": "stdout",
     "output_type": "stream",
     "text": [
      "Robin Hood ha acertado una flecah contra otra.\n",
      "Flechazos por cuadrante : Q1 = 10, Q2 = 6, Q3 = 2, Q4 = 0\n",
      "Los puntos más cercanos al centro : [(0, -2), (0, 2)], con una distancia de 0.0\n",
      "Un total de 12 flechas han caido uera de la diana\n",
      "\n"
     ]
    }
   ],
   "source": [
    "puntos = [(4,5), (-0,2), (4,7), (1,-3), (3,-2), (4,5), \n",
    "          (3,2), (5,7), (-5,7), (2,2), (-4,5), (0,-2), \n",
    "          (-4,7), (-1,3), (-3,2), (-4,-5), (-3,2), \n",
    "          (5,7), (5,7), (2,2), (9, 9), (-8, -9)]\n",
    "        \n",
    "\n",
    "Q1 = []\n",
    "Q2 = []\n",
    "Q3 = []\n",
    "Q4 = []\n",
    "flechas_caidas = 0\n",
    "distancias = []\n",
    "tiros_cercanos = []\n",
    "\n",
    "if len(set(puntos)) < len(puntos):\n",
    "    acierto = \"Robin Hood ha acertado una flecah contra otra.\"\n",
    "else:\n",
    "    acierto = \"Robin Hood no ha acertado una flecha contra otra\"\n",
    "\n",
    "for tiro in puntos:\n",
    "    if tiro [0] > 0 and tiro [1] > 0:\n",
    "        Q1.append(tiro)\n",
    "    elif tiro [0] < 0 and tiro [1] > 0:\n",
    "        Q2.append(tiro)\n",
    "    elif tiro [0] < 0 and tiro [1] < 0:\n",
    "        Q3.append(tiro)\n",
    "    elif tiro [0] < 0 and tiro [1] < 0:\n",
    "        Q4.append(tiro)\n",
    "    distancias.append((round((tiro[0] ** 2 *+ tiro[1]**2)**0.5, 2), tiro))\n",
    "\n",
    "distancias.sort()\n",
    "mejor_distancia = distancias [0][0]\n",
    "\n",
    "for distancias_y_tiro in distancias:\n",
    "    if distancias_y_tiro[0] == mejor_distancia:\n",
    "        tiros_cercanos.append(distancias_y_tiro[1])\n",
    "    if distancias_y_tiro[0] > 9:\n",
    "        flechas_caidas += 1 \n",
    "print(F\"\"\"{acierto}\n",
    "Flechazos por cuadrante : Q1 = {len(Q1)}, Q2 = {len(Q2)}, Q3 = {len(Q3)}, Q4 = {len(Q4)}\n",
    "Los puntos más cercanos al centro : {tiros_cercanos}, con una distancia de {mejor_distancia}\n",
    "Un total de {flechas_caidas} flechas han caido uera de la diana\n",
    "\"\"\")\n"
   ]
  }
 ],
 "metadata": {
  "kernelspec": {
   "display_name": "Python 3.7.4 64-bit",
   "language": "python",
   "name": "python3"
  },
  "language_info": {
   "codemirror_mode": {
    "name": "ipython",
    "version": 3
   },
   "file_extension": ".py",
   "mimetype": "text/x-python",
   "name": "python",
   "nbconvert_exporter": "python",
   "pygments_lexer": "ipython3",
   "version": "3.7.4"
  },
  "vscode": {
   "interpreter": {
    "hash": "7617e3fe2db772bda4decaba26b8f7fa0a6005d206b9c71d11bc465d3df41af6"
   }
  }
 },
 "nbformat": 4,
 "nbformat_minor": 2
}
